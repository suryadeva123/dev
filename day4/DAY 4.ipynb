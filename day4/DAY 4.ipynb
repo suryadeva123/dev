{
 "cells": [
  {
   "cell_type": "code",
   "execution_count": 1,
   "metadata": {},
   "outputs": [
    {
     "data": {
      "text/plain": [
       "79"
      ]
     },
     "execution_count": 1,
     "metadata": {},
     "output_type": "execute_result"
    }
   ],
   "source": [
    "from packages import module\n",
    "module.add(34,45)"
   ]
  },
  {
   "cell_type": "code",
   "execution_count": 1,
   "metadata": {},
   "outputs": [
    {
     "name": "stdout",
     "output_type": "stream",
     "text": [
      "isleapyear\n"
     ]
    }
   ],
   "source": [
    "from packages import module\n",
    "module.isleapyear(2020)"
   ]
  },
  {
   "cell_type": "code",
   "execution_count": 1,
   "metadata": {},
   "outputs": [],
   "source": [
    "from packages import module\n"
   ]
  },
  {
   "cell_type": "code",
   "execution_count": 2,
   "metadata": {},
   "outputs": [
    {
     "name": "stdout",
     "output_type": "stream",
     "text": [
      "not a prime\n"
     ]
    }
   ],
   "source": [
    "module.isprime(45)"
   ]
  },
  {
   "cell_type": "code",
   "execution_count": 5,
   "metadata": {},
   "outputs": [],
   "source": [
    "from packages import module"
   ]
  },
  {
   "cell_type": "code",
   "execution_count": 6,
   "metadata": {},
   "outputs": [
    {
     "name": "stdout",
     "output_type": "stream",
     "text": [
      "2\n",
      "4\n",
      "6\n",
      "8\n",
      "10\n",
      "12\n",
      "14\n",
      "16\n",
      "18\n",
      "20\n",
      "22\n",
      "24\n",
      "26\n",
      "28\n",
      "30\n"
     ]
    }
   ],
   "source": [
    "module.allEven(1,30)"
   ]
  },
  {
   "cell_type": "code",
   "execution_count": 1,
   "metadata": {},
   "outputs": [],
   "source": [
    "from packages import module"
   ]
  },
  {
   "cell_type": "code",
   "execution_count": 2,
   "metadata": {},
   "outputs": [
    {
     "data": {
      "text/plain": [
       "120"
      ]
     },
     "execution_count": 2,
     "metadata": {},
     "output_type": "execute_result"
    }
   ],
   "source": [
    "module.fact(5)"
   ]
  },
  {
   "cell_type": "markdown",
   "metadata": {},
   "source": [
    "# Files\n"
   ]
  },
  {
   "cell_type": "code",
   "execution_count": null,
   "metadata": {},
   "outputs": [],
   "source": [
    "# open(data.txt,mode)\n",
    "# write(data.txt,'w')\n",
    "# read (data.txt,'r')\n",
    "# append(data.txt,'a')\n",
    "# f.close()"
   ]
  },
  {
   "cell_type": "code",
   "execution_count": 14,
   "metadata": {},
   "outputs": [],
   "source": [
    "def writeData():\n",
    "    with open(\"files/data1.txt\",'w')as f:\n",
    "        f.write(\"APSSDC\")\n",
    "    f.close()\n",
    "writeData()"
   ]
  },
  {
   "cell_type": "code",
   "execution_count": 13,
   "metadata": {},
   "outputs": [
    {
     "name": "stdout",
     "output_type": "stream",
     "text": [
      "APSSDC\n"
     ]
    }
   ],
   "source": [
    "def readData():\n",
    "    with open(\"files/data1.txt\",'r') as f:\n",
    "        print(f.read())\n",
    "readData()"
   ]
  },
  {
   "cell_type": "code",
   "execution_count": 18,
   "metadata": {},
   "outputs": [],
   "source": [
    "def appendData():\n",
    "    with open(\"files/data1.txt\",'a') as f:\n",
    "        f.write(\"\\n workshop\")\n",
    "    f.close()\n",
    "appendData()"
   ]
  },
  {
   "cell_type": "code",
   "execution_count": 19,
   "metadata": {},
   "outputs": [
    {
     "name": "stdout",
     "output_type": "stream",
     "text": [
      "APSSDCworkshop\n",
      " workshop\n",
      " \n",
      " workshop\n",
      " workshop\n"
     ]
    }
   ],
   "source": [
    "def readData():\n",
    "    with open(\"files/data1.txt\",'r') as f:\n",
    "        print(f.read())\n",
    "readData()"
   ]
  },
  {
   "cell_type": "code",
   "execution_count": 25,
   "metadata": {},
   "outputs": [
    {
     "name": "stdout",
     "output_type": "stream",
     "text": [
      "A\n",
      "P\n",
      "S\n",
      "S\n",
      "D\n",
      "C\n",
      "w\n",
      "o\n",
      "r\n",
      "k\n",
      "s\n",
      "h\n",
      "o\n",
      "p\n",
      "\n",
      "\n",
      " \n",
      "w\n",
      "o\n",
      "r\n",
      "k\n",
      "s\n",
      "h\n",
      "o\n",
      "p\n",
      "\n",
      "\n",
      " \n",
      "\n",
      "\n",
      " \n",
      "w\n",
      "o\n",
      "r\n",
      "k\n",
      "s\n",
      "h\n",
      "o\n",
      "p\n",
      "\n",
      "\n",
      " \n",
      "w\n",
      "o\n",
      "r\n",
      "k\n",
      "s\n",
      "h\n",
      "o\n",
      "p\n"
     ]
    }
   ],
   "source": [
    "def readData():\n",
    "    with open(\"files/data1.txt\",'r') as f:\n",
    "        for line in f.read():\n",
    "             print(line)\n",
    "readData()"
   ]
  },
  {
   "cell_type": "code",
   "execution_count": 29,
   "metadata": {},
   "outputs": [
    {
     "data": {
      "text/plain": [
       "5"
      ]
     },
     "execution_count": 29,
     "metadata": {},
     "output_type": "execute_result"
    }
   ],
   "source": [
    "def LineCount():\n",
    "    with open(\"files/data1.txt\",\"r\") as f:\n",
    "        c=0\n",
    "        for line in f.readlines():\n",
    "              c+=1\n",
    "    return c\n",
    "LineCount()"
   ]
  },
  {
   "cell_type": "code",
   "execution_count": 32,
   "metadata": {},
   "outputs": [
    {
     "data": {
      "text/plain": [
       "5"
      ]
     },
     "execution_count": 32,
     "metadata": {},
     "output_type": "execute_result"
    }
   ],
   "source": [
    "def CharCount(): \n",
    "    with open(\"files/data1.txt\",\"r\") as f:\n",
    "        c=0\n",
    "        for line in f.readlines():\n",
    "              c+=1\n",
    "    return c\n",
    "CharCount()"
   ]
  },
  {
   "cell_type": "code",
   "execution_count": 59,
   "metadata": {},
   "outputs": [
    {
     "name": "stdout",
     "output_type": "stream",
     "text": [
      "A\n",
      "P\n",
      "S\n",
      "S\n",
      "D\n",
      "C\n",
      "w\n",
      "o\n",
      "r\n",
      "k\n",
      "s\n",
      "h\n",
      "o\n",
      "p\n",
      "\n",
      "\n",
      " \n",
      "w\n",
      "o\n",
      "r\n",
      "k\n",
      "s\n",
      "h\n",
      "o\n",
      "p\n",
      "\n",
      "\n",
      " \n",
      "\n",
      "\n",
      " \n",
      "w\n",
      "o\n",
      "r\n",
      "k\n",
      "s\n",
      "h\n",
      "o\n",
      "p\n",
      "\n",
      "\n",
      " \n",
      "w\n",
      "o\n",
      "r\n",
      "k\n",
      "s\n",
      "h\n",
      "o\n",
      "p\n",
      "Char Count 0\n",
      "alpha Count 38\n"
     ]
    }
   ],
   "source": [
    "def alphaCount():\n",
    "    with open(\"files/data1.txt\",\"r\") as f:\n",
    "        c=0\n",
    "        ch =0\n",
    "        for char in f.read():\n",
    "            print(char)\n",
    "            if char.isalpha():\n",
    "                c+=1\n",
    "    print(\"Char Count\",ch)\n",
    "    print(\"alpha Count\",c)\n",
    "alphaCount()\n",
    "    "
   ]
  },
  {
   "cell_type": "code",
   "execution_count": null,
   "metadata": {},
   "outputs": [],
   "source": []
  }
 ],
 "metadata": {
  "kernelspec": {
   "display_name": "Python 3",
   "language": "python",
   "name": "python3"
  },
  "language_info": {
   "codemirror_mode": {
    "name": "ipython",
    "version": 3
   },
   "file_extension": ".py",
   "mimetype": "text/x-python",
   "name": "python",
   "nbconvert_exporter": "python",
   "pygments_lexer": "ipython3",
   "version": "3.7.4"
  }
 },
 "nbformat": 4,
 "nbformat_minor": 2
}
